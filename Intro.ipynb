{
  "nbformat": 4,
  "nbformat_minor": 0,
  "metadata": {
    "colab": {
      "name": "Intro.ipynb",
      "provenance": [],
      "collapsed_sections": [],
      "authorship_tag": "ABX9TyOshSyZCvU8y4W//4ISf3Uz",
      "include_colab_link": true
    },
    "kernelspec": {
      "name": "python3",
      "display_name": "Python 3"
    }
  },
  "cells": [
    {
      "cell_type": "markdown",
      "metadata": {
        "id": "view-in-github",
        "colab_type": "text"
      },
      "source": [
        "<a href=\"https://colab.research.google.com/github/Dipti1978/test-colab/blob/master/Intro.ipynb\" target=\"_parent\"><img src=\"https://colab.research.google.com/assets/colab-badge.svg\" alt=\"Open In Colab\"/></a>"
      ]
    },
    {
      "cell_type": "code",
      "metadata": {
        "id": "ARfxMDmIjsWJ",
        "colab_type": "code",
        "colab": {
          "base_uri": "https://localhost:8080/",
          "height": 34
        },
        "outputId": "2e89fb69-0780-4695-9de2-e46aad688fc8"
      },
      "source": [
        "4+8"
      ],
      "execution_count": 2,
      "outputs": [
        {
          "output_type": "execute_result",
          "data": {
            "text/plain": [
              "12"
            ]
          },
          "metadata": {
            "tags": []
          },
          "execution_count": 2
        }
      ]
    },
    {
      "cell_type": "code",
      "metadata": {
        "id": "2UvI6YivNAh5",
        "colab_type": "code",
        "colab": {
          "base_uri": "https://localhost:8080/",
          "height": 34
        },
        "outputId": "962a7f23-5cd9-41b2-b2a7-3bd88eb9df23"
      },
      "source": [
        "print(\"Hello World\")"
      ],
      "execution_count": 2,
      "outputs": [
        {
          "output_type": "stream",
          "text": [
            "Hello World\n"
          ],
          "name": "stdout"
        }
      ]
    },
    {
      "cell_type": "code",
      "metadata": {
        "id": "Y1ou6Esy5xOO",
        "colab_type": "code",
        "colab": {
          "base_uri": "https://localhost:8080/",
          "height": 34
        },
        "outputId": "e9660ef0-aba6-41a0-ff4c-1b11286cead2"
      },
      "source": [
        "print(\"Hello\")"
      ],
      "execution_count": 4,
      "outputs": [
        {
          "output_type": "stream",
          "text": [
            "Hello\n"
          ],
          "name": "stdout"
        }
      ]
    },
    {
      "cell_type": "code",
      "metadata": {
        "id": "jxfNtxus56dX",
        "colab_type": "code",
        "colab": {
          "base_uri": "https://localhost:8080/",
          "height": 35
        },
        "outputId": "77548831-acf1-425d-b34a-0ad0a0bb19ac"
      },
      "source": [
        "import numpy as np\n",
        "np.__version__"
      ],
      "execution_count": 6,
      "outputs": [
        {
          "output_type": "execute_result",
          "data": {
            "application/vnd.google.colaboratory.intrinsic": {
              "type": "string"
            },
            "text/plain": [
              "'1.18.5'"
            ]
          },
          "metadata": {
            "tags": []
          },
          "execution_count": 6
        }
      ]
    },
    {
      "cell_type": "code",
      "metadata": {
        "id": "hFuh3EcY9xb1",
        "colab_type": "code",
        "colab": {
          "base_uri": "https://localhost:8080/",
          "height": 292
        },
        "outputId": "a4c0afa9-a6ad-4332-8f7f-31222245cb46"
      },
      "source": [
        "!pip install imageai"
      ],
      "execution_count": 7,
      "outputs": [
        {
          "output_type": "stream",
          "text": [
            "Collecting imageai\n",
            "\u001b[?25l  Downloading https://files.pythonhosted.org/packages/09/99/4023e191a343fb23f01ae02ac57a5ca58037c310e8d8c62f87638a3bafc7/imageai-2.1.5-py3-none-any.whl (180kB)\n",
            "\r\u001b[K     |█▉                              | 10kB 16.7MB/s eta 0:00:01\r\u001b[K     |███▋                            | 20kB 4.0MB/s eta 0:00:01\r\u001b[K     |█████▍                          | 30kB 5.4MB/s eta 0:00:01\r\u001b[K     |███████▎                        | 40kB 5.6MB/s eta 0:00:01\r\u001b[K     |█████████                       | 51kB 4.4MB/s eta 0:00:01\r\u001b[K     |██████████▉                     | 61kB 4.8MB/s eta 0:00:01\r\u001b[K     |████████████▊                   | 71kB 5.4MB/s eta 0:00:01\r\u001b[K     |██████████████▌                 | 81kB 5.7MB/s eta 0:00:01\r\u001b[K     |████████████████▎               | 92kB 5.4MB/s eta 0:00:01\r\u001b[K     |██████████████████▏             | 102kB 5.7MB/s eta 0:00:01\r\u001b[K     |████████████████████            | 112kB 5.7MB/s eta 0:00:01\r\u001b[K     |█████████████████████▊          | 122kB 5.7MB/s eta 0:00:01\r\u001b[K     |███████████████████████▋        | 133kB 5.7MB/s eta 0:00:01\r\u001b[K     |█████████████████████████▍      | 143kB 5.7MB/s eta 0:00:01\r\u001b[K     |███████████████████████████▏    | 153kB 5.7MB/s eta 0:00:01\r\u001b[K     |█████████████████████████████   | 163kB 5.7MB/s eta 0:00:01\r\u001b[K     |██████████████████████████████▉ | 174kB 5.7MB/s eta 0:00:01\r\u001b[K     |████████████████████████████████| 184kB 5.7MB/s \n",
            "\u001b[?25hRequirement already satisfied: scipy in /usr/local/lib/python3.6/dist-packages (from imageai) (1.4.1)\n",
            "Requirement already satisfied: matplotlib in /usr/local/lib/python3.6/dist-packages (from imageai) (3.2.2)\n",
            "Requirement already satisfied: h5py in /usr/local/lib/python3.6/dist-packages (from imageai) (2.10.0)\n",
            "Requirement already satisfied: pillow in /usr/local/lib/python3.6/dist-packages (from imageai) (7.0.0)\n",
            "Requirement already satisfied: numpy in /usr/local/lib/python3.6/dist-packages (from imageai) (1.18.5)\n",
            "Requirement already satisfied: pyparsing!=2.0.4,!=2.1.2,!=2.1.6,>=2.0.1 in /usr/local/lib/python3.6/dist-packages (from matplotlib->imageai) (2.4.7)\n",
            "Requirement already satisfied: cycler>=0.10 in /usr/local/lib/python3.6/dist-packages (from matplotlib->imageai) (0.10.0)\n",
            "Requirement already satisfied: python-dateutil>=2.1 in /usr/local/lib/python3.6/dist-packages (from matplotlib->imageai) (2.8.1)\n",
            "Requirement already satisfied: kiwisolver>=1.0.1 in /usr/local/lib/python3.6/dist-packages (from matplotlib->imageai) (1.2.0)\n",
            "Requirement already satisfied: six in /usr/local/lib/python3.6/dist-packages (from h5py->imageai) (1.12.0)\n",
            "Installing collected packages: imageai\n",
            "Successfully installed imageai-2.1.5\n"
          ],
          "name": "stdout"
        }
      ]
    },
    {
      "cell_type": "code",
      "metadata": {
        "id": "j9yJLnUs91sn",
        "colab_type": "code",
        "colab": {}
      },
      "source": [
        "import imageai"
      ],
      "execution_count": 8,
      "outputs": []
    },
    {
      "cell_type": "code",
      "metadata": {
        "id": "2XY2MHDH-Xz5",
        "colab_type": "code",
        "colab": {}
      },
      "source": [
        ""
      ],
      "execution_count": null,
      "outputs": []
    },
    {
      "cell_type": "markdown",
      "metadata": {
        "id": "R15us5PX-kK8",
        "colab_type": "text"
      },
      "source": [
        "# Markdown"
      ]
    },
    {
      "cell_type": "code",
      "metadata": {
        "id": "M-xf_IBm-n4z",
        "colab_type": "code",
        "colab": {}
      },
      "source": [
        ""
      ],
      "execution_count": null,
      "outputs": []
    },
    {
      "cell_type": "markdown",
      "metadata": {
        "id": "wmfPUkBP-2Ej",
        "colab_type": "text"
      },
      "source": [
        "Examples of *Markdown*\n",
        "Examples of **Markdown**\n",
        "Examples of __Markdown__\n",
        "'''Examples of\n",
        " Markdown'''\n",
        "Examples of 'Markdown'\n"
      ]
    },
    {
      "cell_type": "code",
      "metadata": {
        "id": "ezX-EMw1_3xT",
        "colab_type": "code",
        "colab": {}
      },
      "source": [
        ""
      ],
      "execution_count": null,
      "outputs": []
    },
    {
      "cell_type": "markdown",
      "metadata": {
        "id": "GxAypGIvAOul",
        "colab_type": "text"
      },
      "source": [
        ">python\n",
        ">>code"
      ]
    },
    {
      "cell_type": "code",
      "metadata": {
        "id": "wuNnjgSRAVUH",
        "colab_type": "code",
        "colab": {}
      },
      "source": [
        ""
      ],
      "execution_count": null,
      "outputs": []
    },
    {
      "cell_type": "markdown",
      "metadata": {
        "id": "Rro4bTwjAvYy",
        "colab_type": "text"
      },
      "source": [
        "[Google](https://www.google.co.in/)\n"
      ]
    },
    {
      "cell_type": "code",
      "metadata": {
        "id": "Ktd4bMJaA38P",
        "colab_type": "code",
        "colab": {
          "base_uri": "https://localhost:8080/",
          "height": 71
        },
        "outputId": "40823993-15c1-4e62-a739-577c03538571"
      },
      "source": [
        "![Python](https://in.images.search.yahoo.com/images/view;_ylt=AwrwJRiEYQVfVyEAxyUO9olQ;_ylu=X3oDMTIybWFuMGJ1BHNlYwNzcgRzbGsDaW1nBG9pZAMzZTg3ZDcxMGE3MTVlMjhkOTNkNzU3NGJiNzQwZTg1YgRncG9zAzQEaXQDYmluZw--?back=https%3A%2F%2Fin.images.search.yahoo.com%2Fyhs%2Fsearch%3Fp%3Dpython%2Blogo%26ei%3DUTF-8%26fr%3Dyhs-pty-pty_extension%26hsimp%3Dyhs-pty_extension%26hspart%3Dpty%26param1%3D20190318%26param2%3D5b36d72a-e2f5-4ffe-81bd-dc637e01f4fe%26param3%3Demail_%257EIN%257Eappfocus1%257E%26param4%3Dd-ccc3-lp0-r3-dsf_email--cp_1652719123-bb9%257EChrome%257Epython%2Blogo%257E97ED3D24AC79B00ABCB597BBAEFD9D3E%257EWin10%26tab%3Dorganic%26ri%3D4&w=250&h=188&imgurl=jelastic.com%2Fblog%2Fwp-content%2Fuploads%2F2014%2F08%2FPython_logo-large.png&rurl=https%3A%2F%2Fjelastic.com%2Fblog%2Fpython-hosting-jelastic%2F&size=12.1KB&p=python+logo&oid=3e87d710a715e28d93d7574bb740e85b&fr2=&fr=yhs-pty-pty_extension&tt=Python+Hosting+in+the+Jelastic+Cloud%3AGet+Your+DjangoCMS+Up+and+Running&b=0&ni=21&no=4&ts=&tab=organic&sigr=HWlJ9ZxedDS1&sigb=Qrp4QPzM2Z2A&sigi=kIW6xCuHzKkb&sigt=Px8EkxfWKFDY&.crumb=1v9JZh9rri9&fr=yhs-pty-pty_extension&hsimp=yhs-pty_extension&hspart=pty&param1=20190318&param2=5b36d72a-e2f5-4ffe-81bd-dc637e01f4fe&param3=email_%7EIN%7Eappfocus1%7E&param4=d-ccc3-lp0-r3-dsf_email--cp_1652719123-bb9%7EChrome%7Epython+logo%7E97ED3D24AC79B00ABCB597BBAEFD9D3E%7EWin10)"
      ],
      "execution_count": 11,
      "outputs": [
        {
          "output_type": "stream",
          "text": [
            "/bin/bash: -c: line 0: syntax error near unexpected token `https://in.images.search.yahoo.com/images/view'\n",
            "/bin/bash: -c: line 0: `[Python](https://in.images.search.yahoo.com/images/view;_ylt=AwrwJRiEYQVfVyEAxyUO9olQ;_ylu=X3oDMTIybWFuMGJ1BHNlYwNzcgRzbGsDaW1nBG9pZAMzZTg3ZDcxMGE3MTVlMjhkOTNkNzU3NGJiNzQwZTg1YgRncG9zAzQEaXQDYmluZw--?back=https%3A%2F%2Fin.images.search.yahoo.com%2Fyhs%2Fsearch%3Fp%3Dpython%2Blogo%26ei%3DUTF-8%26fr%3Dyhs-pty-pty_extension%26hsimp%3Dyhs-pty_extension%26hspart%3Dpty%26param1%3D20190318%26param2%3D5b36d72a-e2f5-4ffe-81bd-dc637e01f4fe%26param3%3Demail_%257EIN%257Eappfocus1%257E%26param4%3Dd-ccc3-lp0-r3-dsf_email--cp_1652719123-bb9%257EChrome%257Epython%2Blogo%257E97ED3D24AC79B00ABCB597BBAEFD9D3E%257EWin10%26tab%3Dorganic%26ri%3D4&w=250&h=188&imgurl=jelastic.com%2Fblog%2Fwp-content%2Fuploads%2F2014%2F08%2FPython_logo-large.png&rurl=https%3A%2F%2Fjelastic.com%2Fblog%2Fpython-hosting-jelastic%2F&size=12.1KB&p=python+logo&oid=3e87d710a715e28d93d7574bb740e85b&fr2=&fr=yhs-pty-pty_extension&tt=Python+Hosting+in+the+Jelastic+Cloud%3AGet+Your+DjangoCMS+Up+and+Running&b=0&ni=21&no=4&ts=&tab=organic&sigr=HWlJ9ZxedDS1&sigb=Qrp4QPzM2Z2A&sigi=kIW6xCuHzKkb&sigt=Px8EkxfWKFDY&.crumb=1v9JZh9rri9&fr=yhs-pty-pty_extension&hsimp=yhs-pty_extension&hspart=pty&param1=20190318&param2=5b36d72a-e2f5-4ffe-81bd-dc637e01f4fe&param3=email_%7EIN%7Eappfocus1%7E&param4=d-ccc3-lp0-r3-dsf_email--cp_1652719123-bb9%7EChrome%7Epython+logo%7E97ED3D24AC79B00ABCB597BBAEFD9D3E%7EWin10)'\n"
          ],
          "name": "stdout"
        }
      ]
    },
    {
      "cell_type": "code",
      "metadata": {
        "id": "SxKkoefoBW5_",
        "colab_type": "code",
        "colab": {}
      },
      "source": [
        ""
      ],
      "execution_count": null,
      "outputs": []
    },
    {
      "cell_type": "markdown",
      "metadata": {
        "id": "_RDs7XfJBfVK",
        "colab_type": "text"
      },
      "source": [
        "![Python](https://in.images.search.yahoo.com/images/view;_ylt=AwrwJRiEYQVfVyEAxyUO9olQ;_ylu=X3oDMTIybWFuMGJ1BHNlYwNzcgRzbGsDaW1nBG9pZAMzZTg3ZDcxMGE3MTVlMjhkOTNkNzU3NGJiNzQwZTg1YgRncG9zAzQEaXQDYmluZw--?back=https%3A%2F%2Fin.images.search.yahoo.com%2Fyhs%2Fsearch%3Fp%3Dpython%2Blogo%26ei%3DUTF-8%26fr%3Dyhs-pty-pty_extension%26hsimp%3Dyhs-pty_extension%26hspart%3Dpty%26param1%3D20190318%26param2%3D5b36d72a-e2f5-4ffe-81bd-dc637e01f4fe%26param3%3Demail_%257EIN%257Eappfocus1%257E%26param4%3Dd-ccc3-lp0-r3-dsf_email--cp_1652719123-bb9%257EChrome%257Epython%2Blogo%257E97ED3D24AC79B00ABCB597BBAEFD9D3E%257EWin10%26tab%3Dorganic%26ri%3D4&w=250&h=188&imgurl=jelastic.com%2Fblog%2Fwp-content%2Fuploads%2F2014%2F08%2FPython_logo-large.png&rurl=https%3A%2F%2Fjelastic.com%2Fblog%2Fpython-hosting-jelastic%2F&size=12.1KB&p=python+logo&oid=3e87d710a715e28d93d7574bb740e85b&fr2=&fr=yhs-pty-pty_extension&tt=Python+Hosting+in+the+Jelastic+Cloud%3AGet+Your+DjangoCMS+Up+and+Running&b=0&ni=21&no=4&ts=&tab=organic&sigr=HWlJ9ZxedDS1&sigb=Qrp4QPzM2Z2A&sigi=kIW6xCuHzKkb&sigt=Px8EkxfWKFDY&.crumb=1v9JZh9rri9&fr=yhs-pty-pty_extension&hsimp=yhs-pty_extension&hspart=pty&param1=20190318&param2=5b36d72a-e2f5-4ffe-81bd-dc637e01f4fe&param3=email_%7EIN%7Eappfocus1%7E&param4=d-ccc3-lp0-r3-dsf_email--cp_1652719123-bb9%7EChrome%7Epython+logo%7E97ED3D24AC79B00ABCB597BBAEFD9D3E%7EWin10)"
      ]
    },
    {
      "cell_type": "markdown",
      "metadata": {
        "id": "Tr57mug5Bb29",
        "colab_type": "text"
      },
      "source": [
        ""
      ]
    },
    {
      "cell_type": "markdown",
      "metadata": {
        "id": "R3mX3EZlKMmu",
        "colab_type": "text"
      },
      "source": [
        "$y=x^2$\n",
        "$\\frac{1}{n}\\sum_{i=1}^{n}x_{i}$"
      ]
    },
    {
      "cell_type": "code",
      "metadata": {
        "id": "4a8SItkVLrN_",
        "colab_type": "code",
        "colab": {}
      },
      "source": [
        ""
      ],
      "execution_count": null,
      "outputs": []
    },
    {
      "cell_type": "code",
      "metadata": {
        "id": "xWxrq3guVjW6",
        "colab_type": "code",
        "colab": {}
      },
      "source": [
        ""
      ],
      "execution_count": null,
      "outputs": []
    },
    {
      "cell_type": "markdown",
      "metadata": {
        "id": "T94wB9LuVmCd",
        "colab_type": "text"
      },
      "source": [
        "SA=$\\begin{pmatrix}\n",
        "a_{1,1} & a_{1,2}\\\\\n",
        "a_{2,1} & a_{2,2}\n",
        "\\end{pmatrix}$\n"
      ]
    },
    {
      "cell_type": "markdown",
      "metadata": {
        "id": "q0N9eLOWViGG",
        "colab_type": "text"
      },
      "source": [
        ""
      ]
    }
  ]
}